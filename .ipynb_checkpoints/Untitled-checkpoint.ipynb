{
 "cells": [
  {
   "cell_type": "markdown",
   "metadata": {},
   "source": [
    "# DEPOLARIZE & RENORMALIZE \n",
    "&#x1F34E; **TOPIC = \"Theresa May\"**\n",
    "\n",
    "![](https://smallbiztrends.com/wp-content/uploads/2016/05/shutterstock_311472353-850x476.jpg)\n",
    "\n",
    "\n",
    "## GENERATED METRICS - POPULAR TOPICS\n",
    "[Brexit Metrics](https://github.com/murchie85/BREXIT-TWITTER/blob/master/BREXIT.ipynb) |   \n",
    "![image](https://static.independent.co.uk/s3fs-public/thumbnails/image/2019/03/29/17/brexit-parliament-protests-3.jpg)\n",
    "[Theressa May - Twitter Metrics](https://github.com/murchie85/MAY-TWITTER-ANALYSIS/blob/master/May.ipynb) | \n",
    "![image](https://timedotcom.files.wordpress.com/2019/03/theresa-may-brexit-politics.jpg)\n",
    "[Abortion & Alabama Metrics](https://github.com/murchie85/-ALABAMA-Metrics/blob/master/ALABAMA.ipynb) | \n",
    "![image](https://thenypost.files.wordpress.com/2019/05/alabama-abortion-ban.jpg?quality=90&strip=all&w=618&h=410&crop=1)\n",
    "[SexStrike metrics](https://github.com/murchie85/TwitterStreamFilter/blob/master/SEXSTRIKE.ipynb) |  \n",
    "\n",
    "![image](https://i.ytimg.com/vi/VCJfT9CTuds/maxresdefault.jpg)\n"
   ]
  },
  {
   "cell_type": "code",
   "execution_count": null,
   "metadata": {
    "collapsed": true
   },
   "outputs": [],
   "source": []
  }
 ],
 "metadata": {
  "kernelspec": {
   "display_name": "Python 3",
   "language": "python",
   "name": "python3"
  },
  "language_info": {
   "codemirror_mode": {
    "name": "ipython",
    "version": 3
   },
   "file_extension": ".py",
   "mimetype": "text/x-python",
   "name": "python",
   "nbconvert_exporter": "python",
   "pygments_lexer": "ipython3",
   "version": "3.6.1"
  }
 },
 "nbformat": 4,
 "nbformat_minor": 2
}
